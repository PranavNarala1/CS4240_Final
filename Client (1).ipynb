{
  "nbformat": 4,
  "nbformat_minor": 0,
  "metadata": {
    "colab": {
      "name": "Client.ipynb",
      "provenance": [],
      "collapsed_sections": []
    },
    "kernelspec": {
      "name": "python3",
      "display_name": "Python 3"
    },
    "language_info": {
      "name": "python"
    }
  },
  "cells": [
    {
      "cell_type": "markdown",
      "metadata": {
        "id": "7twvt55KH4vF"
      },
      "source": [
        "**This file is used to make predictions for the NBA playoffs bracket for the 2007-2008, 2009-2010, 2012-2013, and 2015-2016 seasons. The predictions are made with our abstracted keras neural network class Model.py**"
      ]
    },
    {
      "cell_type": "markdown",
      "metadata": {
        "id": "fzO_X9O9IR2_"
      },
      "source": [
        "**Creating and Loading the Model**"
      ]
    },
    {
      "cell_type": "code",
      "metadata": {
        "id": "TZGgdA7pIV0e"
      },
      "source": [
        "#importing the model\n",
        "from Model import Model\n",
        "\n",
        "#creating the model object\n",
        "model = Model()\n",
        "\n",
        "#loading the trained model\n",
        "model.load_model('test_model_trained_with_all_13_seasons')"
      ],
      "execution_count": 28,
      "outputs": []
    },
    {
      "cell_type": "markdown",
      "metadata": {
        "id": "6quHYdIAJDB0"
      },
      "source": [
        "**2007-2008 season prediction**"
      ]
    },
    {
      "cell_type": "code",
      "metadata": {
        "id": "oSjIqHcW1Mf3",
        "colab": {
          "base_uri": "https://localhost:8080/"
        },
        "outputId": "2aa1b586-e92e-4e42-ebd7-f5da379e5a4c"
      },
      "source": [
        "## 1st Round of Playoffs\n",
        "\n",
        "print(\"Eastern Conference 1 vs 8\")\n",
        "winner1v8E = model.make_prediction('Celtics', 'Hawks', '2007-08').split()[-1]\n",
        "print(winner1v8E)\n",
        "print(\"Eastern Conference 4 vs 5\")\n",
        "winner4v5E = model.make_prediction('Cavaliers', 'Wizards', '2007-08').split()[-1]\n",
        "print(winner4v5E)\n",
        "print(\"Eastern Conference 3 vs 6\")\n",
        "winner3v6E = model.make_prediction('Magic', 'Raptors', '2007-08').split()[-1]\n",
        "print(winner3v6E)\n",
        "print(\"Eastern Conference 2 vs 7\")\n",
        "winner2v7E = model.make_prediction('Pistons', '76ers', '2007-08').split()[-1]\n",
        "print(winner2v7E)\n",
        "## Eastern Conference Semis (2nd Round)\n",
        "\n",
        "print(\"Eastern Conference (Winner of 1 vs 8) vs (Winner of 4 vs 5)\")\n",
        "winnerOf_WinnerOf1v8vsWinnerOf4v5 = model.make_prediction(winner1v8E, winner4v5E, '2007-08').split()[-1]\n",
        "print(winnerOf_WinnerOf1v8vsWinnerOf4v5)\n",
        "print(\"Eastern Conference (Winner of 2 vs 7) vs (Winner of 3 vs 6)\")\n",
        "winnerOf_WinnerOf2v7vsWinnerOf3v6 = model.make_prediction(winner3v6E, winner2v7E,'2007-08').split()[-1]\n",
        "print(winnerOf_WinnerOf2v7vsWinnerOf3v6)\n",
        "##Eastern Conference Finals (3rd Round)\n",
        "\n",
        "print(\"Winner of ((Winner of 1 vs 8) vs (Winner of 4 vs 5)) vs ((Winner of 2 vs 7) vs (Winner of 3 vs 6))\")\n",
        "ECF_winner = model.make_prediction(winnerOf_WinnerOf1v8vsWinnerOf4v5, winnerOf_WinnerOf2v7vsWinnerOf3v6,'2007-08').split()[-1]\n",
        "print(ECF_winner)"
      ],
      "execution_count": 29,
      "outputs": [
        {
          "output_type": "stream",
          "name": "stdout",
          "text": [
            "Eastern Conference 1 vs 8\n",
            "Celtics\n",
            "Eastern Conference 4 vs 5\n",
            "Cavaliers\n",
            "Eastern Conference 3 vs 6\n",
            "Magic\n",
            "Eastern Conference 2 vs 7\n",
            "Pistons\n",
            "Eastern Conference (Winner of 1 vs 8) vs (Winner of 4 vs 5)\n",
            "Celtics\n",
            "Eastern Conference (Winner of 2 vs 7) vs (Winner of 3 vs 6)\n",
            "Pistons\n",
            "Winner of ((Winner of 1 vs 8) vs (Winner of 4 vs 5)) vs ((Winner of 2 vs 7) vs (Winner of 3 vs 6))\n",
            "Celtics\n"
          ]
        }
      ]
    },
    {
      "cell_type": "code",
      "metadata": {
        "id": "hXh5B_Ay1Peq",
        "colab": {
          "base_uri": "https://localhost:8080/"
        },
        "outputId": "0216b4fc-68dd-4f08-993d-83ac3ac0ba59"
      },
      "source": [
        "## 1st Round of Playoffs\n",
        "\n",
        "print(\"Western Conference 1 vs 8\")\n",
        "winner1v8W = model.make_prediction('Lakers', 'Nuggets', '2007-08').split()[-1]\n",
        "print(winner1v8W)\n",
        "print(\"Western Conference 4 vs 5\")\n",
        "winner4v5W = model.make_prediction('Jazz', 'Rockets', '2007-08').split()[-1]\n",
        "print(winner4v5W)\n",
        "print(\"Western Conference 3 vs 6\")\n",
        "winner3v6W = model.make_prediction('Spurs', 'Suns', '2007-08').split()[-1]\n",
        "print(winner3v6W)\n",
        "print(\"Western Conference 2 vs 7\")\n",
        "winner2v7W = model.make_prediction('Hornets', 'Mavericks', '2007-08').split()[-1]\n",
        "print(winner2v7W)\n",
        "## Western Conference Semis (2nd Round)\n",
        "\n",
        "print(\"Western Conference (Winner of 1 vs 8) vs (Winner of 4 vs 5)\")\n",
        "winnerOf_WinnerOf1v8vsWinnerOf4v5W = model.make_prediction(winner1v8W, winner4v5W, '2007-08').split()[-1]\n",
        "print(winnerOf_WinnerOf1v8vsWinnerOf4v5W)\n",
        "print(\"Western Conference (Winner of 2 vs 7) vs (Winner of 3 vs 6)\")\n",
        "winnerOf_WinnerOf2v7vsWinnerOf3v6W = model.make_prediction(winner2v7W, winner3v6W, '2007-08').split()[-1]\n",
        "print(winnerOf_WinnerOf2v7vsWinnerOf3v6W)\n",
        "##Western Conference Finals (3rd Round)\n",
        "\n",
        "print(\"Winner of ((Winner of 1 vs 8) vs (Winner of 4 vs 5)) vs ((Winner of 2 vs 7) vs (Winner of 3 vs 6))\")\n",
        "WCF_winner = model.make_prediction(winnerOf_WinnerOf1v8vsWinnerOf4v5W, winnerOf_WinnerOf2v7vsWinnerOf3v6W, '2007-08').split()[-1]\n",
        "print(WCF_winner)"
      ],
      "execution_count": 30,
      "outputs": [
        {
          "output_type": "stream",
          "name": "stdout",
          "text": [
            "Western Conference 1 vs 8\n",
            "Lakers\n",
            "Western Conference 4 vs 5\n",
            "Jazz\n",
            "Western Conference 3 vs 6\n",
            "Spurs\n",
            "Western Conference 2 vs 7\n",
            "Hornets\n",
            "Western Conference (Winner of 1 vs 8) vs (Winner of 4 vs 5)\n",
            "Lakers\n",
            "Western Conference (Winner of 2 vs 7) vs (Winner of 3 vs 6)\n",
            "Spurs\n",
            "Winner of ((Winner of 1 vs 8) vs (Winner of 4 vs 5)) vs ((Winner of 2 vs 7) vs (Winner of 3 vs 6))\n",
            "Lakers\n"
          ]
        }
      ]
    },
    {
      "cell_type": "code",
      "metadata": {
        "id": "3YM3D-1c2whV",
        "colab": {
          "base_uri": "https://localhost:8080/"
        },
        "outputId": "45cabc4f-94e9-45d5-f889-b2fe42bd39f3"
      },
      "source": [
        "print(\"NBA Finals\")\n",
        "\n",
        "#Winner of (((Winner of 1 vs 8) vs (Winner of 4 vs 5)) vs ((Winner of 2 vs 7) vs (Winner of 3 vs 6))) vs (((Winner of 1 vs 8) vs (Winner of 4 vs 5)) vs ((Winner of 2 vs 7) vs (Winner of 3 vs 6)))\n",
        "NBA_finals_winner = model.make_prediction(ECF_winner, WCF_winner, '2007-08').split()[-1]\n",
        "print(\"NBA Champion:\")\n",
        "print(NBA_finals_winner)"
      ],
      "execution_count": 31,
      "outputs": [
        {
          "output_type": "stream",
          "name": "stdout",
          "text": [
            "NBA Finals\n",
            "NBA Champion:\n",
            "Celtics\n"
          ]
        }
      ]
    },
    {
      "cell_type": "markdown",
      "metadata": {
        "id": "Y2dGhHDaJRlt"
      },
      "source": [
        "**2009-2010 season**"
      ]
    },
    {
      "cell_type": "code",
      "metadata": {
        "id": "YAy7zE90JVg8",
        "colab": {
          "base_uri": "https://localhost:8080/"
        },
        "outputId": "5b64b697-8b89-4d7e-a8ca-7ec8a2a2dbdc"
      },
      "source": [
        "## 1st Round of Playoffs\n",
        "\n",
        "print(\"Eastern Conference 1 vs 8\")\n",
        "winner1v8E = model.make_prediction('Cavaliers', 'Bulls', '2009-10').split()[-1]\n",
        "print(winner1v8E)\n",
        "print(\"Eastern Conference 4 vs 5\")\n",
        "winner4v5E = model.make_prediction('Celtics', 'Heat', '2009-10').split()[-1]\n",
        "print(winner4v5E)\n",
        "print(\"Eastern Conference 3 vs 6\")\n",
        "winner3v6E = model.make_prediction('Hawks', 'Bucks', '2009-10').split()[-1]\n",
        "print(winner3v6E)\n",
        "print(\"Eastern Conference 2 vs 7\")\n",
        "winner2v7E = model.make_prediction('Magic', 'Bobcats', '2009-10').split()[-1]\n",
        "print(winner2v7E)\n",
        "## Eastern Conference Semis (2nd Round)\n",
        "\n",
        "print(\"Eastern Conference (Winner of 1 vs 8) vs (Winner of 4 vs 5)\")\n",
        "winnerOf_WinnerOf1v8vsWinnerOf4v5 = model.make_prediction(winner1v8E, winner4v5E, '2009-10').split()[-1]\n",
        "print(winnerOf_WinnerOf1v8vsWinnerOf4v5)\n",
        "print(\"Eastern Conference (Winner of 2 vs 7) vs (Winner of 3 vs 6)\")\n",
        "winnerOf_WinnerOf2v7vsWinnerOf3v6 = model.make_prediction(winner3v6E, winner2v7E,'2009-10').split()[-1]\n",
        "print(winnerOf_WinnerOf2v7vsWinnerOf3v6)\n",
        "##Eastern Conference Finals (3rd Round)\n",
        "\n",
        "print(\"Winner of ((Winner of 1 vs 8) vs (Winner of 4 vs 5)) vs ((Winner of 2 vs 7) vs (Winner of 3 vs 6))\")\n",
        "ECF_winner = model.make_prediction(winnerOf_WinnerOf1v8vsWinnerOf4v5, winnerOf_WinnerOf2v7vsWinnerOf3v6,'2009-10').split()[-1]\n",
        "print(ECF_winner)"
      ],
      "execution_count": 32,
      "outputs": [
        {
          "output_type": "stream",
          "name": "stdout",
          "text": [
            "Eastern Conference 1 vs 8\n",
            "Cavaliers\n",
            "Eastern Conference 4 vs 5\n",
            "Celtics\n",
            "Eastern Conference 3 vs 6\n",
            "Hawks\n",
            "Eastern Conference 2 vs 7\n",
            "Magic\n",
            "Eastern Conference (Winner of 1 vs 8) vs (Winner of 4 vs 5)\n",
            "Cavaliers\n",
            "Eastern Conference (Winner of 2 vs 7) vs (Winner of 3 vs 6)\n",
            "Magic\n",
            "Winner of ((Winner of 1 vs 8) vs (Winner of 4 vs 5)) vs ((Winner of 2 vs 7) vs (Winner of 3 vs 6))\n",
            "Magic\n"
          ]
        }
      ]
    },
    {
      "cell_type": "code",
      "metadata": {
        "id": "GKnH9bof2XTp",
        "colab": {
          "base_uri": "https://localhost:8080/"
        },
        "outputId": "685361fb-339f-464b-b6bc-76226fe5da1f"
      },
      "source": [
        "## 1st Round of Playoffs\n",
        "\n",
        "print(\"Western Conference 1 vs 8\")\n",
        "winner1v8W = model.make_prediction('Lakers', 'Thunder', '2009-10').split()[-1]\n",
        "print(winner1v8W)\n",
        "print(\"Western Conference 4 vs 5\")\n",
        "winner4v5W = model.make_prediction('Nuggets', 'Jazz', '2009-10').split()[-1]\n",
        "print(winner4v5W)\n",
        "print(\"Western Conference 3 vs 6\")\n",
        "winner3v6W = model.make_prediction('Suns', 'Blazers', '2009-10').split()[-1]\n",
        "print(winner3v6W)\n",
        "print(\"Western Conference 2 vs 7\")\n",
        "winner2v7W = model.make_prediction('Mavericks', 'Spurs', '2009-10').split()[-1]\n",
        "print(winner2v7W)\n",
        "## Western Conference Semis (2nd Round)\n",
        "\n",
        "print(\"Western Conference (Winner of 1 vs 8) vs (Winner of 4 vs 5)\")\n",
        "winnerOf_WinnerOf1v8vsWinnerOf4v5W = model.make_prediction(winner1v8W, winner4v5W, '2009-10').split()[-1]\n",
        "print(winnerOf_WinnerOf1v8vsWinnerOf4v5W)\n",
        "print(\"Western Conference (Winner of 2 vs 7) vs (Winner of 3 vs 6)\")\n",
        "winnerOf_WinnerOf2v7vsWinnerOf3v6W = model.make_prediction(winner2v7W, winner3v6W, '2009-10').split()[-1]\n",
        "print(winnerOf_WinnerOf2v7vsWinnerOf3v6W)\n",
        "##Western Conference Finals (3rd Round)\n",
        "\n",
        "print(\"Winner of ((Winner of 1 vs 8) vs (Winner of 4 vs 5)) vs ((Winner of 2 vs 7) vs (Winner of 3 vs 6))\")\n",
        "WCF_winner = model.make_prediction(winnerOf_WinnerOf1v8vsWinnerOf4v5W, winnerOf_WinnerOf2v7vsWinnerOf3v6W, '2009-10').split()[-1]\n",
        "print(\"Western Conference Champion\")\n",
        "print(WCF_winner)"
      ],
      "execution_count": 33,
      "outputs": [
        {
          "output_type": "stream",
          "name": "stdout",
          "text": [
            "Western Conference 1 vs 8\n",
            "Lakers\n",
            "Western Conference 4 vs 5\n",
            "Jazz\n",
            "Western Conference 3 vs 6\n",
            "Suns\n",
            "Western Conference 2 vs 7\n",
            "Spurs\n",
            "Western Conference (Winner of 1 vs 8) vs (Winner of 4 vs 5)\n",
            "Jazz\n",
            "Western Conference (Winner of 2 vs 7) vs (Winner of 3 vs 6)\n",
            "Spurs\n",
            "Winner of ((Winner of 1 vs 8) vs (Winner of 4 vs 5)) vs ((Winner of 2 vs 7) vs (Winner of 3 vs 6))\n",
            "Western Conference Champion\n",
            "Jazz\n"
          ]
        }
      ]
    },
    {
      "cell_type": "code",
      "metadata": {
        "id": "nTOtgYu43o5Z",
        "colab": {
          "base_uri": "https://localhost:8080/"
        },
        "outputId": "712302a0-a9e5-4bdf-abe8-f1c9edd5902a"
      },
      "source": [
        "## NBA Finals\n",
        "\n",
        "#Winner of (((Winner of 1 vs 8) vs (Winner of 4 vs 5)) vs ((Winner of 2 vs 7) vs (Winner of 3 vs 6))) vs (((Winner of 1 vs 8) vs (Winner of 4 vs 5)) vs ((Winner of 2 vs 7) vs (Winner of 3 vs 6)))\n",
        "NBA_finals_winner = model.make_prediction(ECF_winner, WCF_winner, '2009-10').split()[-1]\n",
        "print(\"NBA Champion:\")\n",
        "print(NBA_finals_winner)"
      ],
      "execution_count": 34,
      "outputs": [
        {
          "output_type": "stream",
          "name": "stdout",
          "text": [
            "NBA Champion:\n",
            "Magic\n"
          ]
        }
      ]
    },
    {
      "cell_type": "markdown",
      "metadata": {
        "id": "3N7whAE7JVzB"
      },
      "source": [
        "**2012-2013 season**"
      ]
    },
    {
      "cell_type": "code",
      "metadata": {
        "id": "pjpn2vVFJYY-",
        "colab": {
          "base_uri": "https://localhost:8080/"
        },
        "outputId": "e28f60cb-b3d5-49b3-879c-494a327d925b"
      },
      "source": [
        "## 1st Round of Playoffs\n",
        "\n",
        "print(\"Eastern Conference 1 vs 8\")\n",
        "winner1v8E = model.make_prediction('Heat', 'Bucks', '2012-13').split()[-1]\n",
        "print(winner1v8E)\n",
        "print(\"Eastern Conference 4 vs 5\")\n",
        "winner4v5E = model.make_prediction('Nets', 'Bulls', '2012-13').split()[-1]\n",
        "print(winner4v5E)\n",
        "print(\"Eastern Conference 3 vs 6\")\n",
        "winner3v6E = model.make_prediction('Pacers', 'Hawks', '2012-13').split()[-1]\n",
        "print(winner3v6E)\n",
        "print(\"Eastern Conference 2 vs 7\")\n",
        "winner2v7E = model.make_prediction('Knicks', 'Celtics', '2012-13').split()[-1]\n",
        "print(winner2v7E)\n",
        "## Eastern Conference Semis (2nd Round)\n",
        "\n",
        "print(\"Eastern Conference (Winner of 1 vs 8) vs (Winner of 4 vs 5)\")\n",
        "winnerOf_WinnerOf1v8vsWinnerOf4v5 = model.make_prediction(winner1v8E, winner4v5E, '2012-13').split()[-1]\n",
        "print(winnerOf_WinnerOf1v8vsWinnerOf4v5)\n",
        "print(\"Eastern Conference (Winner of 2 vs 7) vs (Winner of 3 vs 6)\")\n",
        "winnerOf_WinnerOf2v7vsWinnerOf3v6 = model.make_prediction(winner3v6E, winner2v7E,'2012-13').split()[-1]\n",
        "print(winnerOf_WinnerOf2v7vsWinnerOf3v6)\n",
        "##Eastern Conference Finals (3rd Round)\n",
        "\n",
        "print(\"Winner of ((Winner of 1 vs 8) vs (Winner of 4 vs 5)) vs ((Winner of 2 vs 7) vs (Winner of 3 vs 6))\")\n",
        "ECF_winner = model.make_prediction(winnerOf_WinnerOf1v8vsWinnerOf4v5, winnerOf_WinnerOf2v7vsWinnerOf3v6,'2012-13').split()[-1]\n",
        "print(ECF_winner)"
      ],
      "execution_count": 35,
      "outputs": [
        {
          "output_type": "stream",
          "name": "stdout",
          "text": [
            "Eastern Conference 1 vs 8\n",
            "Heat\n",
            "Eastern Conference 4 vs 5\n",
            "Nets\n",
            "Eastern Conference 3 vs 6\n",
            "Pacers\n",
            "Eastern Conference 2 vs 7\n",
            "Knicks\n",
            "Eastern Conference (Winner of 1 vs 8) vs (Winner of 4 vs 5)\n",
            "Heat\n",
            "Eastern Conference (Winner of 2 vs 7) vs (Winner of 3 vs 6)\n",
            "Pacers\n",
            "Winner of ((Winner of 1 vs 8) vs (Winner of 4 vs 5)) vs ((Winner of 2 vs 7) vs (Winner of 3 vs 6))\n",
            "Heat\n"
          ]
        }
      ]
    },
    {
      "cell_type": "code",
      "metadata": {
        "id": "3CBW6AXQQfxa",
        "colab": {
          "base_uri": "https://localhost:8080/"
        },
        "outputId": "1e901ee4-3429-48fc-fa83-8280f4165108"
      },
      "source": [
        "## 1st Round of Playoffs\n",
        "\n",
        "print(\"Western Conference 1 vs 8\")\n",
        "winner1v8W = model.make_prediction('Thunder', 'Rockets', '2012-13').split()[-1]\n",
        "print(winner1v8W)\n",
        "print(\"Western Conference 4 vs 5\")\n",
        "winner4v5W = model.make_prediction('Clippers', 'Grizzlies', '2012-13').split()[-1]\n",
        "print(winner4v5W)\n",
        "print(\"Western Conference 3 vs 6\")\n",
        "winner3v6W = model.make_prediction('Nuggets', 'Warriors', '2012-13').split()[-1]\n",
        "print(winner3v6W)\n",
        "print(\"Western Conference 2 vs 7\")\n",
        "winner2v7W = model.make_prediction('Spurs', 'Lakers', '2012-13').split()[-1]\n",
        "print(winner2v7W)\n",
        "## Western Conference Semis (2nd Round)\n",
        "\n",
        "print(\"Western Conference (Winner of 1 vs 8) vs (Winner of 4 vs 5)\")\n",
        "winnerOf_WinnerOf1v8vsWinnerOf4v5W = model.make_prediction(winner1v8W, winner4v5W, '2012-13').split()[-1]\n",
        "print(winnerOf_WinnerOf1v8vsWinnerOf4v5W)\n",
        "print(\"Western Conference (Winner of 2 vs 7) vs (Winner of 3 vs 6)\")\n",
        "winnerOf_WinnerOf2v7vsWinnerOf3v6W = model.make_prediction(winner2v7W, winner3v6W, '2012-13').split()[-1]\n",
        "print(winnerOf_WinnerOf2v7vsWinnerOf3v6W)\n",
        "##Western Conference Finals (3rd Round)\n",
        "\n",
        "print(\"Winner of ((Winner of 1 vs 8) vs (Winner of 4 vs 5)) vs ((Winner of 2 vs 7) vs (Winner of 3 vs 6))\")\n",
        "WCF_winner = model.make_prediction(winnerOf_WinnerOf1v8vsWinnerOf4v5W, winnerOf_WinnerOf2v7vsWinnerOf3v6W, '2012-13').split()[-1]\n",
        "print(\"Western Conference Champion\")\n",
        "print(WCF_winner)"
      ],
      "execution_count": 36,
      "outputs": [
        {
          "output_type": "stream",
          "name": "stdout",
          "text": [
            "Western Conference 1 vs 8\n",
            "Thunder\n",
            "Western Conference 4 vs 5\n",
            "Clippers\n",
            "Western Conference 3 vs 6\n",
            "Nuggets\n",
            "Western Conference 2 vs 7\n",
            "Spurs\n",
            "Western Conference (Winner of 1 vs 8) vs (Winner of 4 vs 5)\n",
            "Thunder\n",
            "Western Conference (Winner of 2 vs 7) vs (Winner of 3 vs 6)\n",
            "Spurs\n",
            "Winner of ((Winner of 1 vs 8) vs (Winner of 4 vs 5)) vs ((Winner of 2 vs 7) vs (Winner of 3 vs 6))\n",
            "Western Conference Champion\n",
            "Thunder\n"
          ]
        }
      ]
    },
    {
      "cell_type": "code",
      "metadata": {
        "id": "Y6IsAltSQgKA",
        "colab": {
          "base_uri": "https://localhost:8080/"
        },
        "outputId": "e712fb74-d63e-4fd7-af46-94428ef1a5b2"
      },
      "source": [
        "## NBA Finals\n",
        "\n",
        "#Winner of (((Winner of 1 vs 8) vs (Winner of 4 vs 5)) vs ((Winner of 2 vs 7) vs (Winner of 3 vs 6))) vs (((Winner of 1 vs 8) vs (Winner of 4 vs 5)) vs ((Winner of 2 vs 7) vs (Winner of 3 vs 6)))\n",
        "NBA_finals_winner = model.make_prediction(ECF_winner, WCF_winner, '2012-13').split()[-1]\n",
        "print(\"NBA Champion:\")\n",
        "print(NBA_finals_winner)"
      ],
      "execution_count": 37,
      "outputs": [
        {
          "output_type": "stream",
          "name": "stdout",
          "text": [
            "NBA Champion:\n",
            "Thunder\n"
          ]
        }
      ]
    },
    {
      "cell_type": "markdown",
      "metadata": {
        "id": "YN0hZTMMJYlT"
      },
      "source": [
        "**2015-2016 season**"
      ]
    },
    {
      "cell_type": "code",
      "metadata": {
        "id": "QruiF42hJfPL",
        "colab": {
          "base_uri": "https://localhost:8080/"
        },
        "outputId": "08765b59-84e0-468f-e6af-940799de6480"
      },
      "source": [
        "## 1st Round of Playoffs\n",
        "\n",
        "print(\"Eastern Conference 1 vs 8\")\n",
        "winner1v8E = model.make_prediction('Cavaliers', 'Pistons', '2015-16').split()[-1]\n",
        "print(winner1v8E)\n",
        "print(\"Eastern Conference 4 vs 5\")\n",
        "winner4v5E = model.make_prediction('Hawks', 'Celtics', '2015-16').split()[-1]\n",
        "print(winner4v5E)\n",
        "print(\"Eastern Conference 3 vs 6\")\n",
        "winner3v6E = model.make_prediction('Heat', 'Hornets', '2015-16').split()[-1]\n",
        "print(winner3v6E)\n",
        "print(\"Eastern Conference 2 vs 7\")\n",
        "winner2v7E = model.make_prediction('Raptors', 'Pacers', '2015-16').split()[-1]\n",
        "print(winner2v7E)\n",
        "## Eastern Conference Semis (2nd Round)\n",
        "\n",
        "print(\"Eastern Conference (Winner of 1 vs 8) vs (Winner of 4 vs 5)\")\n",
        "winnerOf_WinnerOf1v8vsWinnerOf4v5 = model.make_prediction(winner1v8E, winner4v5E, '2015-16').split()[-1]\n",
        "print(winnerOf_WinnerOf1v8vsWinnerOf4v5)\n",
        "print(\"Eastern Conference (Winner of 2 vs 7) vs (Winner of 3 vs 6)\")\n",
        "winnerOf_WinnerOf2v7vsWinnerOf3v6 = model.make_prediction(winner3v6E, winner2v7E,'2015-16').split()[-1]\n",
        "print(winnerOf_WinnerOf2v7vsWinnerOf3v6)\n",
        "##Eastern Conference Finals (3rd Round)\n",
        "\n",
        "print(\"Winner of ((Winner of 1 vs 8) vs (Winner of 4 vs 5)) vs ((Winner of 2 vs 7) vs (Winner of 3 vs 6))\")\n",
        "ECF_winner = model.make_prediction(winnerOf_WinnerOf1v8vsWinnerOf4v5, winnerOf_WinnerOf2v7vsWinnerOf3v6,'2015-16').split()[-1]\n",
        "print(\"Eastern Conference Champion\")\n",
        "print(ECF_winner)"
      ],
      "execution_count": 38,
      "outputs": [
        {
          "output_type": "stream",
          "name": "stdout",
          "text": [
            "Eastern Conference 1 vs 8\n",
            "Cavaliers\n",
            "Eastern Conference 4 vs 5\n",
            "Hawks\n",
            "Eastern Conference 3 vs 6\n",
            "Hornets\n",
            "Eastern Conference 2 vs 7\n",
            "Raptors\n",
            "Eastern Conference (Winner of 1 vs 8) vs (Winner of 4 vs 5)\n",
            "Cavaliers\n",
            "Eastern Conference (Winner of 2 vs 7) vs (Winner of 3 vs 6)\n",
            "Raptors\n",
            "Winner of ((Winner of 1 vs 8) vs (Winner of 4 vs 5)) vs ((Winner of 2 vs 7) vs (Winner of 3 vs 6))\n",
            "Eastern Conference Champion\n",
            "Cavaliers\n"
          ]
        }
      ]
    },
    {
      "cell_type": "code",
      "metadata": {
        "id": "KoBQhs_5QhF_",
        "colab": {
          "base_uri": "https://localhost:8080/"
        },
        "outputId": "0df5d319-027e-4bf7-d906-4dac7db9a661"
      },
      "source": [
        "## 1st Round of Playoffs\n",
        "\n",
        "print(\"Western Conference 1 vs 8\")\n",
        "winner1v8W = model.make_prediction('Warriors', 'Rockets', '2015-16').split()[-1]\n",
        "print(winner1v8W)\n",
        "print(\"Western Conference 4 vs 5\")\n",
        "winner4v5W = model.make_prediction('Clippers', 'Blazers', '2015-16').split()[-1]\n",
        "print(winner4v5W)\n",
        "print(\"Western Conference 3 vs 6\")\n",
        "winner3v6W = model.make_prediction('Thunder', 'Mavericks', '2015-16').split()[-1]\n",
        "print(winner3v6W)\n",
        "print(\"Western Conference 2 vs 7\")\n",
        "winner2v7W = model.make_prediction('Spurs', 'Grizzlies', '2015-16').split()[-1]\n",
        "print(winner2v7W)\n",
        "## Western Conference Semis (2nd Round)\n",
        "\n",
        "print(\"Western Conference (Winner of 1 vs 8) vs (Winner of 4 vs 5)\")\n",
        "winnerOf_WinnerOf1v8vsWinnerOf4v5W = model.make_prediction(winner1v8W, winner4v5W, '2015-16').split()[-1]\n",
        "print(winnerOf_WinnerOf1v8vsWinnerOf4v5W)\n",
        "print(\"Western Conference (Winner of 2 vs 7) vs (Winner of 3 vs 6)\")\n",
        "winnerOf_WinnerOf2v7vsWinnerOf3v6W = model.make_prediction(winner2v7W, winner3v6W, '2015-16').split()[-1]\n",
        "print(winnerOf_WinnerOf2v7vsWinnerOf3v6W)\n",
        "##Western Conference Finals (3rd Round)\n",
        "\n",
        "print(\"Winner of ((Winner of 1 vs 8) vs (Winner of 4 vs 5)) vs ((Winner of 2 vs 7) vs (Winner of 3 vs 6))\")\n",
        "WCF_winner = model.make_prediction(winnerOf_WinnerOf1v8vsWinnerOf4v5W, winnerOf_WinnerOf2v7vsWinnerOf3v6W, '2015-16').split()[-1]\n",
        "print(\"Western Conference Champion\")\n",
        "print(WCF_winner)"
      ],
      "execution_count": 42,
      "outputs": [
        {
          "output_type": "stream",
          "name": "stdout",
          "text": [
            "Western Conference 1 vs 8\n",
            "Warriors\n",
            "Western Conference 4 vs 5\n",
            "Clippers\n",
            "Western Conference 3 vs 6\n",
            "Thunder\n",
            "Western Conference 2 vs 7\n",
            "Spurs\n",
            "Western Conference (Winner of 1 vs 8) vs (Winner of 4 vs 5)\n",
            "Warriors\n",
            "Western Conference (Winner of 2 vs 7) vs (Winner of 3 vs 6)\n",
            "Spurs\n",
            "Winner of ((Winner of 1 vs 8) vs (Winner of 4 vs 5)) vs ((Winner of 2 vs 7) vs (Winner of 3 vs 6))\n",
            "Western Conference Champion\n",
            "Spurs\n"
          ]
        }
      ]
    },
    {
      "cell_type": "code",
      "metadata": {
        "id": "Vv2EALAYQhNJ",
        "colab": {
          "base_uri": "https://localhost:8080/"
        },
        "outputId": "0fb2d932-5bff-4d69-8ba0-ab7eca1b9d1e"
      },
      "source": [
        "## NBA Finals\n",
        "\n",
        "#Winner of (((Winner of 1 vs 8) vs (Winner of 4 vs 5)) vs ((Winner of 2 vs 7) vs (Winner of 3 vs 6))) vs (((Winner of 1 vs 8) vs (Winner of 4 vs 5)) vs ((Winner of 2 vs 7) vs (Winner of 3 vs 6)))\n",
        "NBA_finals_winner = model.make_prediction(ECF_winner, WCF_winner, '2015-16').split()[-1]\n",
        "print(\"NBA Champion:\")\n",
        "print(NBA_finals_winner)"
      ],
      "execution_count": 40,
      "outputs": [
        {
          "output_type": "stream",
          "name": "stdout",
          "text": [
            "NBA Champion:\n",
            "Spurs\n"
          ]
        }
      ]
    },
    {
      "cell_type": "markdown",
      "metadata": {
        "id": "vsfMf-53KLJK"
      },
      "source": [
        "**Sources:**\n",
        "\n",
        "Bracket Images: \n",
        "http://www.espn.com/nba/bracket/_/year/2008\n",
        "\n",
        "http://www.espn.com/nba/bracket/_/year/2010\n",
        "\n",
        "http://www.espn.com/nba/bracket/_/year/2013\n",
        "\n",
        "http://www.espn.com/nba/bracket/_/year/2016\n",
        "\n",
        "\n"
      ]
    }
  ]
}